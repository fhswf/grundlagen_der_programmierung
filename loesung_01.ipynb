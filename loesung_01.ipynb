{
 "cells": [
  {
   "cell_type": "markdown",
   "metadata": {},
   "source": [
    "## Lösung zu Übung 2\n",
    "\n",
    "Zunächst der Euiklidische Algorithmus als Pseudocode:\n",
    "\n",
    "```\n",
    "Berechne ggT(a, b):\n",
    "\n",
    "   Tausche a und b, falls a < b\n",
    "\n",
    "   r = Rest beim Teilen von a durch b\n",
    "   \n",
    "   Solange r > 0:\n",
    "      a = b\n",
    "      b = r\n",
    "      r = Rest beim Teilen von a durch b\n",
    "\n",
    "   Gebe b zurück\n",
    "```\n",
    "\n",
    "Nun wollen wir den Algorithmus in Python umsetzen.\n",
    "Dabei möchte ich Ihnen gleich einen neuen Datentypen in Python vorstellen, das **Tupel**.\n",
    "Das Tupel in Python ist – wie in der Mathematik – eine geordnete (endliche) Liste von Werten. Ein Tupel kann dabei nicht verändert werden, d.h. man kann ein Element nicht gegen einen anderen Wert austauschen (dafür gibt es **Listen**, die wir auch bald kennenlernen werden.\n",
    "Der Ausdruck\n",
    "```Python\n",
    "(a, b)\n",
    "```\n",
    "bildet ein Paar aus zwei Werten, nämlich aus den Inhalten der Variablen `a` und `b`.\n",
    "Mit der Zuweisung\n",
    "```Python\n",
    "(a, b) = (b, a)\n",
    "```\n",
    "tauscht man die Werte der Variablen `a` und `b`.\n",
    "\n",
    "Diese Kurzschreibweise hat den Vorteil, dass man beim Tauschen von Werten keinen \"Zwischenspeicher\" benötigt. Und außerdem finde ich persönlich diese Kurzschreibweise auch eleganter als etwa\n",
    "```Python\n",
    "temp = a\n",
    "b = a\n",
    "a = temp\n",
    "```\n",
    "\n",
    "Der Euklidische Algorithmus lässt sich so sehr elegant und kurz schreiben:"
   ]
  },
  {
   "cell_type": "code",
   "execution_count": 3,
   "metadata": {},
   "outputs": [],
   "source": [
    "def ggT(a, b):\n",
    "    \"\"\"Berechne den größten gemeinsamen Teiler von a und b mithilfe des Euklidischen Algorithmus\"\"\"\n",
    "    \n",
    "    if a < b:\n",
    "        (a, b) = (b, a)\n",
    "        \n",
    "    r = a % b\n",
    "    while r > 0:\n",
    "        # Euklidischer Algorithmus: Ersetze a durch b, b durch r und berechne das neue r aus den alten Werten als b % r \n",
    "        (a, b, r) = (b, r, b % r)\n",
    "        \n",
    "    return b"
   ]
  },
  {
   "cell_type": "markdown",
   "metadata": {},
   "source": [
    "Hier zwei Testfälle – der aus dem Video von Christian Spannagel und einer mit großen Zahlen."
   ]
  },
  {
   "cell_type": "code",
   "execution_count": 4,
   "metadata": {},
   "outputs": [
    {
     "data": {
      "text/plain": [
       "6"
      ]
     },
     "execution_count": 4,
     "metadata": {},
     "output_type": "execute_result"
    }
   ],
   "source": [
    "ggT(66, 156)"
   ]
  },
  {
   "cell_type": "code",
   "execution_count": 11,
   "metadata": {},
   "outputs": [
    {
     "data": {
      "text/plain": [
       "192"
      ]
     },
     "execution_count": 11,
     "metadata": {},
     "output_type": "execute_result"
    }
   ],
   "source": [
    "ggT(127879872, 897987988992)"
   ]
  },
  {
   "cell_type": "markdown",
   "metadata": {},
   "source": [
    "## Bonus: Wie oft muss der Euklidische Algorithmus dividieren?\n",
    "\n",
    "Sie haben gesehen, dass der Euklidische Algorithmus mit (deutlich) weniger Divisionen auskommt als der \"naive\" Ansatz, alle Zahlen durchzuprobieren.\n",
    "\n",
    "Informatiker interessieren sich dafür, wie lange ein Algorithmus für die Berechnung des Ergebnisses benötigt, wenn die Eingabewerter größer (und länger) werden. \n",
    "Auch wir werden uns diese Frage bei einigen Algorithmen stellen und das noch genauer behandeln. \n",
    "\n",
    "Im Fall des Euklidischen Algorithmus ist das gar nicht so einfach. Wenn etwa der Rest der ersten Division von $a$ und $b$  sehr groß ist – etwa $b-1$, dann ist er beim nächsten Mal nur noch $1$ und man ist schnell fertig.\n",
    "\n",
    "Man kann zeigen, dass man den \"worst case\" über die sogenannten *Fibonacci-Zahlen* $F_n$ erhält, die wie folgt definiert sind:\n",
    "$$\n",
    "F_n = F_{n-1} + F_{n-2},\n",
    "$$\n",
    "$$\n",
    "F_0 = 1, F_1 = 1\n",
    "$$\n",
    "\n",
    "Die Folge der Fibonacci-Zahlen ist also $(1, 1, 2, 3, 5, 8, 13, 21, 34, \\ldots)$. \n",
    "Aus der Definition der Fibonacci-Zahlen folgt\n",
    "$$\n",
    "F_n = 1 \\cdot F_{n-1} + F_{n-2},  \n",
    "$$\n",
    "d.h. bei der Division von $F_n$ durch $F_{n-1}$ bleibt als Rest $F_{n-2}$.\n",
    "\n",
    "Da die Werte $F_n$ mit $n$ exponentiell wachsen, man aber im \"worst case\" mit $n$ Divisionen auskommt, ergibt sich, dass die Zahl der benötigten Divisionen maximal so stark steigt wie der Logarithmus des Produktes der beiden Zahlen. "
   ]
  },
  {
   "cell_type": "code",
   "execution_count": null,
   "metadata": {},
   "outputs": [],
   "source": []
  }
 ],
 "metadata": {
  "kernelspec": {
   "display_name": "Python 3",
   "language": "python",
   "name": "python3"
  },
  "language_info": {
   "codemirror_mode": {
    "name": "ipython",
    "version": 3
   },
   "file_extension": ".py",
   "mimetype": "text/x-python",
   "name": "python",
   "nbconvert_exporter": "python",
   "pygments_lexer": "ipython3",
   "version": "3.7.3"
  }
 },
 "nbformat": 4,
 "nbformat_minor": 4
}
