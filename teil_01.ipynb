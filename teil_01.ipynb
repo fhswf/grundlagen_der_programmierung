{
 "cells": [
  {
   "cell_type": "markdown",
   "metadata": {},
   "source": [
    "# Willkommen beim Modul *Grundlagen der Programmierung*!\n",
    "\n",
    "## Inhalt dieses Kapitels\n",
    "In diesem Kapitel \n",
    "- lernen Sie, was ein Algorithmus ist,\n",
    "- lernen Sie die Programmiersprache Python kennen,\n",
    "- schreiben Sie Ihr erstes Programm.\n",
    "\n",
    "Im Modul *Grundlagen der Programmierung* geht es darum, das *algorithmische Denken* zu lernen. \n",
    "Was ich darunter verstehe, möchte ich zu Anfang an einem einfachen Beispiel erklären, das schon über 2000 Jahre alt ist und trotzdem (oder vielleicht gerade deshalb?) auch heute noch relevant ist, etwa in der Kryptografie.\n",
    "\n",
    "## Der größte gemeinsame Teiler zweier Zahlen\n",
    "Ein sehr altes Rechenproblem ist die Bestimmung des größten gemeinsamen Teilers – des $\\mathsf{ggT}$ – zweier natürlicher Zahlen: Der $\\mathsf{ggT}$ zweier natürlichen Zahlen $a$ und $b$ \n",
    "**ist die größte natürliche Zahl, die sowohl ein Teiler von $a$ als auch $b$ ist**.\n",
    "\n",
    "Man benötigt den $\\mathsf{ggT}$ bei der Addition von Brüchen, um den gemeinsamen Nenner zu bestimmen. Er spielt aber auch in der Kryptographie für das RSA-Verfahren eine wichtige Rolle.\n",
    "\n"
   ]
  },
  {
   "cell_type": "markdown",
   "metadata": {},
   "source": [
    "Das Problem kann man auf sehr verschiedene Art und Weise lösen:\n",
    "\n",
    "- Man kann z.B. für alle Zahlen von $1$ bis $\\min(a, b)$ ausprobieren, ob sie $a$ und $b$ teilen. \n",
    "- Man kann für $a$ und $b$ die Zerlegung in Primfaktoren bestimmen; der $\\mathsf{ggT}$ ist dann das Produkt der \n",
    "  gemeinsamen Primfaktoren.\n",
    "  \n",
    "Beide Lösungswege haben folgende Eigenschaften:\n",
    "- Es gibt eine *klare Abfolge von Schritten*, die man \"abarbeiten\" kann (wobei die zweite Vorschrift voraussetzt, \n",
    "  dass man weiß, wie man die Primfaktorzerlegung einer Zahl bestimmt).\n",
    "- Die *Anzahl* der Arbeitsschritte ist *endlich* (**überlegen Sie, warum das so ist!**).\n",
    "\n",
    "Eine solche \"Berechnungsvorschrift\", die nach einer endlichen Anzahl von Schritten zum Ergebnis führt, nennt man – nach dem choresmischen Gelehrten [Muhammad bin Musa al-Chwarizmi](https://de.wikipedia.org/wiki/Al-Chwarizmi) (أبو جعفر محمد بن موسى الخوارزمي) – einen\n",
    "**[Algorithmus](https://de.wikipedia.org/wiki/Algorithmus)**. \n",
    "\n",
    "Der Vorteil eines **Algorithmus** ist, dass die Lösung eines Problems auf eine Folge einfacher Arbeitsschritte zurückgeführt wird.\n",
    "Derjenige, der den Algorithmus ausführt, braucht im ersten Fall nur zu wissen, wie man eine Division mit Rest ausführt, um den $\\mathsf{ggT}$ zu bestimmen. \n",
    "In der Schule lernt man eine ganze Reihe von (mathematischen) Algorithmen, etwa die schriftliche Addition oder die Bestimmung der Lösungen einer quadratischen Gleichung.\n",
    "\n",
    "In unserem Beispiel ist es einfach, *irgendeinen* Algorithmus zu finden, der das Problem löst.\n",
    "Die Kunst in der Informatik besteht darin, einen *guten* Algorithmus zu finden (oder zumindest einen, der *gut genug* ist, um ein konkretes Problem mit der verfügbaren Hardware zu lösen).\n",
    "\n",
    "Zunächst einmal wollen wir uns den \"naiven\" Algorithmus für den $\\mathsf{ggT}$ genauer anschauen."
   ]
  },
  {
   "cell_type": "markdown",
   "metadata": {},
   "source": [
    "## Naiver Algorithmus als Pseudocode\n",
    "\n",
    "Wir können das erste Verfahren – alle Zahlen \"durchprobieren\" – etwas formeller als \"Pseudocode\" formulieren:\n",
    "\n",
    "```\n",
    "Berechne ggT(a, b):\n",
    "   Setze ggT = 1\n",
    "   \n",
    "   Für i von 2 bis Minimum von a und b:\n",
    "      Wenn (Rest beim Teilen von a durch i = 0) und (Rest beim Teilen von b durch i = 0):\n",
    "         ggT = i\n",
    "   \n",
    "   Gebe ggT zurück.\n",
    "```\n",
    "\n",
    "Dieses \"Programm\" können Sie nun verwenden, um den $\\mathsf{ggT}$ von 6 und 9 auszurechnen (**Tun Sie das!!**)."
   ]
  },
  {
   "cell_type": "markdown",
   "metadata": {},
   "source": [
    "## Naiver Algothmus in Python\n",
    "\n",
    "Damit der Computer für uns die Arbeit erledigen kann, müssen wir ihm den Algorithmus in einer Computersprache \"erklären\". Besonders einfach – und direkt hier im Browser – geht das mit Python.\n",
    "\n",
    "Die folgende \"Code-Zelle\" in diesem Dokument definiert die Funktion `ggT`. Drücken Sie den \"Play-Button\", damit sie ausgeführt wird:"
   ]
  },
  {
   "cell_type": "code",
   "execution_count": 2,
   "metadata": {},
   "outputs": [],
   "source": [
    "def ggT(a, b):\n",
    "    \"\"\"Berechne den größten gemeinsamen Teiler von a und b\"\"\"\n",
    "    ggT = 1\n",
    "    \n",
    "    for i in range(2, min(a, b) + 1):\n",
    "        if a % i == 0 and b % i == 0:\n",
    "            ggT = i\n",
    "    \n",
    "    return ggT"
   ]
  },
  {
   "cell_type": "markdown",
   "metadata": {},
   "source": [
    "Wir haben soeben unsere erste **Funktion** in Python **definiert** (die einzelnen Zeilen erkläre ich gleich).\n",
    "Ich hoffe, Ihnen fällt auf, dass die Formulierung in Python dem \"Programm\" oben sehr ähnlich sieht!\n",
    "\n",
    "Nun wollen wir die Funktion aufrufen, indem wir wieder den Play-Button drücken: "
   ]
  },
  {
   "cell_type": "code",
   "execution_count": 12,
   "metadata": {},
   "outputs": [
    {
     "data": {
      "text/plain": [
       "6"
      ]
     },
     "execution_count": 12,
     "metadata": {},
     "output_type": "execute_result"
    }
   ],
   "source": [
    "ggT(156, 66)"
   ]
  },
  {
   "cell_type": "markdown",
   "metadata": {},
   "source": [
    "Wie sie sehen, wird das Ergebnis der Berechnung direkt ausgegeben. \n",
    "\n",
    "## Die Schritte im Einzelnen\n",
    "\n",
    "Nun wollen wir uns das Programm Zeile für Zeile anschauen und beginnen zunächst bei \n",
    "```Python\n",
    "ggT = 1\n",
    "```\n",
    "\n",
    "### Variable\n",
    "\n",
    "Mit `=` weisen wir einer **Variablen** einen Wert zu. Eine Variable ist hier – wie in der Mathematik – einfach ein Name, unter dem wir uns jeweils einen **Wert merken**.\n",
    "\n",
    "Anders als in anderen Programmiersprachen, die Sie vielleicht schon kennen, muss man Variablen in Python nicht definieren; mit `ggT = 1` merken wir uns die Zahl 1 unter dem Namen `ggT`.\n",
    "\n",
    "### Wertebereiche und Schleifen\n",
    "\n",
    "Die Zeile \n",
    "```Python\n",
    "for i in range(2, min(a, b) + 1):\n",
    "```\n",
    "hat es jetzt in sich – schauen wir sie uns Stück für Stück an.\n",
    "\n",
    "Zunächst einmal berechnet `min(a, b)` das Minimum von `a` und `b`, also den beiden Zahlen, die der Funktion übergeben wurden. \n",
    "Das funktioniert auch \"einfach so\":\n"
   ]
  },
  {
   "cell_type": "code",
   "execution_count": 4,
   "metadata": {},
   "outputs": [
    {
     "data": {
      "text/plain": [
       "6"
      ]
     },
     "execution_count": 4,
     "metadata": {},
     "output_type": "execute_result"
    }
   ],
   "source": [
    "min(6, 9)"
   ]
  },
  {
   "cell_type": "markdown",
   "metadata": {},
   "source": [
    "Das liegt daran, dass `min` eine der \"eingebauten\" Funktionen von Python ist. Python bringt eine Hilfefunktion mit, die kurz erläutert, was eine Funktion tut:"
   ]
  },
  {
   "cell_type": "code",
   "execution_count": 5,
   "metadata": {},
   "outputs": [
    {
     "name": "stdout",
     "output_type": "stream",
     "text": [
      "Help on built-in function min in module builtins:\n",
      "\n",
      "min(...)\n",
      "    min(iterable, *[, default=obj, key=func]) -> value\n",
      "    min(arg1, arg2, *args, *[, key=func]) -> value\n",
      "    \n",
      "    With a single iterable argument, return its smallest item. The\n",
      "    default keyword-only argument specifies an object to return if\n",
      "    the provided iterable is empty.\n",
      "    With two or more arguments, return the smallest argument.\n",
      "\n"
     ]
    }
   ],
   "source": [
    "help(min)"
   ]
  },
  {
   "cell_type": "markdown",
   "metadata": {},
   "source": [
    "Das funktioniert übrigens auch für unsere Funktion `ggT`:"
   ]
  },
  {
   "cell_type": "code",
   "execution_count": 6,
   "metadata": {},
   "outputs": [
    {
     "name": "stdout",
     "output_type": "stream",
     "text": [
      "Help on function ggT in module __main__:\n",
      "\n",
      "ggT(a, b)\n",
      "    Berechne den größten gemeinsamen Teiler von a und b\n",
      "\n"
     ]
    }
   ],
   "source": [
    "help(ggT)"
   ]
  },
  {
   "cell_type": "markdown",
   "metadata": {},
   "source": [
    "Das erklärt auch den Sinn der merkwürdigen Zeile \n",
    "```Python\n",
    "\"\"\"Berechne den größten gemeinsamen Teiler von a und b\"\"\"\n",
    "```\n",
    "– sie enthält die Dokumentation unserer Funktion."
   ]
  },
  {
   "cell_type": "markdown",
   "metadata": {},
   "source": [
    "Die Funktion `range(start, stop)` erzeugt eine **Sequenz** der Zahlen von `start` (einschließlich) bis `stop` (ausschließlich) produziert.\n",
    "\n",
    "Mit der **Schleifenanweisung** `for` durchlaufen wir die Werte dieser Sequenz.\n",
    "Die Anweisung\n",
    "```Python\n",
    "for i in range(start, stop):\n",
    "```\n",
    "sorgt dafür, dass `i` die Werte der Sequenz `range` durchläuft:"
   ]
  },
  {
   "cell_type": "code",
   "execution_count": 3,
   "metadata": {},
   "outputs": [
    {
     "name": "stdout",
     "output_type": "stream",
     "text": [
      "2\n",
      "3\n",
      "4\n",
      "5\n",
      "6\n"
     ]
    }
   ],
   "source": [
    "for i in range(2, 7):\n",
    "    print(i)"
   ]
  },
  {
   "cell_type": "markdown",
   "metadata": {},
   "source": [
    "### Bedingte Ausführung\n",
    "\n",
    "Schauen wir uns nun die Zeilen\n",
    "\n",
    "```Python\n",
    "if a % i == 0 and b % i == 0:\n",
    "   ggT = i\n",
    "```\n",
    "an. Die erste Zeile sorgt dafür, dass die Zuweisung `ggT = i` nur dann ausgeführt wird, wenn die Bedingung `a % i == 0 and b % i == 0` erfüllt ist.\n",
    "Dabei ist `%` der Operator, der den Rest einer Division ganzer Zahlen berechnet:"
   ]
  },
  {
   "cell_type": "code",
   "execution_count": 14,
   "metadata": {},
   "outputs": [
    {
     "data": {
      "text/plain": [
       "2"
      ]
     },
     "execution_count": 14,
     "metadata": {},
     "output_type": "execute_result"
    }
   ],
   "source": [
    "8 % 3"
   ]
  },
  {
   "cell_type": "markdown",
   "metadata": {},
   "source": [
    "Mit `==` vergleichen wir zwei Zahlen, das Ergebnis ist ein **Wahrheitswert**, also entweder \"wahr\" (`True`) oder \"falsch\" (`False`)."
   ]
  },
  {
   "cell_type": "code",
   "execution_count": 15,
   "metadata": {},
   "outputs": [
    {
     "data": {
      "text/plain": [
       "True"
      ]
     },
     "execution_count": 15,
     "metadata": {},
     "output_type": "execute_result"
    }
   ],
   "source": [
    "8 % 2 == 0"
   ]
  },
  {
   "cell_type": "markdown",
   "metadata": {},
   "source": [
    "Damit haben wir neben den Zahlen und der **Sequenz** einen weiteren **Datentypen**. Was es mit den verschiedenen Datentypen auf sich hat, besprechen wir noch genauer.\n",
    "Hier genügt uns zunächst, dass wir zwei Wahrheitswerte mit `and` **logisch verknüpfen** können, d.h. \n",
    "`a % i == 0 and b % i == 0` ist genau dann wahr, wenn `a % i == 0` **und** `b % i == 0` **beide** wahr sind, d.h. wenn `i` die Zahlen `a` und `b` beide teilt.  "
   ]
  },
  {
   "cell_type": "markdown",
   "metadata": {},
   "source": [
    "### Funktionionsdefinition und Werterückgabe\n",
    "\n",
    "Zu guter letzt schauen wir uns noch die Zeilen \n",
    "```Python\n",
    "def ggT(a, b):\n",
    "```\n",
    "und \n",
    "```Python\n",
    "return ggT\n",
    "```\n",
    "an.\n",
    "\n",
    "Mit `def` **definieren** wir eine Funktion, die wir mit verschiedenen Werten aufrufen können. \n",
    "Der Ausdruck `(a, b)` sagt dabei, dass wir zwei Werte übergeben und dass diese in der Funktion `ggT` die Namen `a` und `b` haben sollen.\n",
    "\n",
    "Mit `return ggT` gibt die Funktion den Wert der Variablen `ggT` als Ergebnis zurück."
   ]
  },
  {
   "cell_type": "markdown",
   "metadata": {},
   "source": [
    "## Was macht einen guten Algorithmus aus?\n",
    "\n",
    "Unsere erste Funktion `ggT(a, b)` ist korrekt, d.h. sie gibt das richtige Ergebnis zurück. \n",
    "Aber ist sie auch **gut**?\n",
    "Wenn Sie den Algorithmus von Hand ausführen, werden Sie feststellen, dass Sie ganz schön lange rechnen. \n",
    "\n",
    "Auch wenn Computer heute sehr schnell sind und Milliarden von Operationen pro Sekunde ausführen können – ein **guter** Algorithmus sollte nicht mehr Berechnungen ausführen als nötig.\n"
   ]
  },
  {
   "cell_type": "markdown",
   "metadata": {},
   "source": [
    "Zur Berechnung des $\\mathsf{ggT}$ gibt es einen deutlich besseren Algorithmus, der auf *Euklid* zurückgeht und damit deutlich älter als jede Programmiersprache ist.\n",
    "\n",
    "Zum *Euklidischen Algorithmus* gibt es auch ein\n",
    "[Video von Christian Spannagel](https://youtu.be/CWRALUpNd00), das Sie sich am besten erst einmal ansehen.\n",
    "**Das meine ich ernst – bitte schauen Sie sich das Video wirklich an!**"
   ]
  },
  {
   "cell_type": "markdown",
   "metadata": {},
   "source": [
    "#### Übung 1\n",
    "\n",
    "Wenn Sie das Video angeschaut haben, wissen Sie jetzt, wie viele Divisionen mit Rest Sie ausführen müssen, um mit dem euklidischen Algorithmus `ggT(166, 56)` zu berechnen. \n",
    "Vergleichen Sie das mit der Zahl der Divisionen mit Rest in unserem naiven Algorithmus!"
   ]
  },
  {
   "cell_type": "markdown",
   "metadata": {},
   "source": [
    "#### Übung 2\n",
    "\n",
    "Schreiben Sie den euklidischen Algorithmus als Pseudocode und in Python!\n",
    "\n",
    "**Hinweis:** Eine Schleife, die solange durchlaufen wird, wie eine Bedingung wahr ist, schreibt man in Python so:\n",
    "```Python\n",
    "while bedingung:\n",
    "    a = b\n",
    "```"
   ]
  }
 ],
 "metadata": {
  "kernelspec": {
   "display_name": "Python 3",
   "language": "python",
   "name": "python3"
  },
  "language_info": {
   "codemirror_mode": {
    "name": "ipython",
    "version": 3
   },
   "file_extension": ".py",
   "mimetype": "text/x-python",
   "name": "python",
   "nbconvert_exporter": "python",
   "pygments_lexer": "ipython3",
   "version": "3.7.3"
  }
 },
 "nbformat": 4,
 "nbformat_minor": 4
}
